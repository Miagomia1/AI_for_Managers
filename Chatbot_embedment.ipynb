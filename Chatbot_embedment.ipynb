{
 "cells": [
  {
   "cell_type": "code",
   "execution_count": null,
   "id": "32d52a70",
   "metadata": {},
   "outputs": [],
   "source": [
    "import React, { useEffect } from 'react';\n",
    "\n",
    "function App() {\n",
    "  useEffect(() => {\n",
    "    const initChatbase = () => {\n",
    "      if (!window.chatbase || window.chatbase(\"getState\") !== \"initialized\") {\n",
    "        window.chatbase = (...args) => {\n",
    "          if (!window.chatbase.q) {\n",
    "            window.chatbase.q = [];\n",
    "          }\n",
    "          window.chatbase.q.push(args);\n",
    "        };\n",
    "        window.chatbase = new Proxy(window.chatbase, {\n",
    "          get(target, prop) {\n",
    "            if (prop === \"q\") return target.q;\n",
    "            return (...args) => target(prop, ...args);\n",
    "          }\n",
    "        });\n",
    "      }\n",
    "\n",
    "      const onLoad = () => {\n",
    "        const script = document.createElement(\"script\");\n",
    "        script.src = \"https://www.chatbase.co/embed.min.js\";\n",
    "        script.id = \"xxxxxxxxxxxxxxxxxx\"; // Your Chatbase Bot ID\n",
    "        script.setAttribute(\"domain\", \"www.chatbase.co\");\n",
    "        document.body.appendChild(script);\n",
    "      };\n",
    "\n",
    "      if (document.readyState === \"complete\") onLoad();\n",
    "      else window.addEventListener(\"load\", onLoad);\n",
    "    };\n",
    "\n",
    "    initChatbase();\n",
    "  }, []);\n",
    "\n",
    "  return (\n",
    "    <>\n",
    "      {/* your router, navbar, footer, etc. */}\n",
    "    </>\n",
    "  );\n",
    "}\n",
    "\n",
    "export default App;\n"
   ]
  }
 ],
 "metadata": {
  "language_info": {
   "name": "python"
  }
 },
 "nbformat": 4,
 "nbformat_minor": 5
}
